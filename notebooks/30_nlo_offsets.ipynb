{
 "cells": [
  {
   "cell_type": "markdown",
   "id": "0",
   "metadata": {},
   "source": [
    "# 30 — NLO offsets\n",
    "δc_T^2(k) ~ b k^2 / Λ^2"
   ]
  },
  {
   "cell_type": "code",
   "execution_count": null,
   "id": "6460ee57",
   "metadata": {},
   "outputs": [],
   "source": [
    "!pip -q install \"git+https://github.com/ice91/palatini-pt-spurion.git\""
   ]
  },
  {
   "cell_type": "code",
   "execution_count": null,
   "id": "1",
   "metadata": {},
   "outputs": [],
   "source": [
    "import numpy as np, matplotlib.pyplot as plt\n",
    "from palatini_pt.gw.nlo import predict_offsets\n",
    "\n",
    "k = np.logspace(-3, -1, 200)\n",
    "cfg = {\"nlo\": {\"gradT_sq_eff\": 1.0, \"Ricci_deps_deps_eff\": 0.3, \"Lambda2\": 1e6}}\n",
    "out = predict_offsets(k, cfg)\n",
    "\n",
    "plt.loglog(k, np.abs(out[\"delta_cT2\"]), label=r\"$|\\delta c_T^2|$\")\n",
    "plt.loglog(k, (out[\"delta_cT2\"][0]/(k[0]**2))*k**2, ls=\"--\", label=r\"$\\propto k^2$\")\n",
    "plt.legend(); plt.xlabel(\"k\"); plt.ylabel(r\"$|\\delta c_T^2|$\")\n",
    "plt.title(\"NLO: $k^2/\\\\Lambda^2$\")\n",
    "plt.show()"
   ]
  }
 ],
 "metadata": {
  "jupytext": {
   "cell_metadata_filter": "-all",
   "main_language": "python",
   "notebook_metadata_filter": "kernelspec,language_info"
  },
  "language_info": {
   "codemirror_mode": {
    "name": "ipython",
    "version": 3
   },
   "file_extension": ".py",
   "mimetype": "text/x-python",
   "name": "python",
   "nbconvert_exporter": "python",
   "pygments_lexer": "ipython3",
   "version": "3.12.3"
  }
 },
 "nbformat": 4,
 "nbformat_minor": 5
}
